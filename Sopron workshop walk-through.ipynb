{
 "cells": [
  {
   "cell_type": "markdown",
   "metadata": {
    "slideshow": {
     "slide_type": "-"
    }
   },
   "source": [
    "# SUMMA walk-through for Sopron workshop"
   ]
  },
  {
   "cell_type": "markdown",
   "metadata": {},
   "source": [
    "## Workshop \n",
    "_Improving the theoretical underpinnings of hydrologic models_\n",
    "\n",
    "Sopron, Hungary, April 15-18, 2018\n",
    "\n",
    "### SUMMA / HydroShare tutorial\n",
    "Afternoon of Sunday, April 15, 2018\n",
    "\n",
    "Time difference with US is +6 hours relative to EST (DST in both)."
   ]
  },
  {
   "cell_type": "markdown",
   "metadata": {},
   "source": [
    "## initial setup\n",
    "* [x] login to cheyenne\n",
    "* [x] start interactive session and load modules\n",
    "* [ ] wget for the hydroshare resource with this notebook\n",
    "* [ ] unzip and install (depending on whether we install everything in the local folder or do a `pip` or `conda` install). This includes the `utilities.hydroshare` module and `pySUMMA`. `# We are currently defaulting to downloading a zip file that installs the necessary python libraries locally`\n",
    "* [x] open ssh-tunnel and start jupyter-notebook server on cheyenne \n",
    "* [x] on your local machine connect to jupyter-notebook on cheyenne via your browser\n",
    "* [x] open notebook in your web browser"
   ]
  },
  {
   "cell_type": "markdown",
   "metadata": {},
   "source": [
    "## notebook content"
   ]
  },
  {
   "cell_type": "markdown",
   "metadata": {},
   "source": [
    "### setup\n",
    "* [x] authenticate with hydroshare (`hs = hydroshare.hydroshare()`)\n",
    "* [ ] download sample data (SUMMA test case(s)) as a hydroshare resource from within notebook\n",
    "* [ ] install test cases to configure paths in SUMMA file managers"
   ]
  },
  {
   "cell_type": "markdown",
   "metadata": {},
   "source": [
    "### run SUMMA exercise\n",
    "* [x] create a `Simulation` instance             `# checked for stand-alone setup`\n",
    "* [ ] configure `Simulation` instance\n",
    "* [x] run `Simulation`                           `# checked for setup using docker version` \n",
    "* [ ] interact with output"
   ]
  },
  {
   "cell_type": "markdown",
   "metadata": {},
   "source": [
    "### post notebook and simulation results back to Hydroshare\n",
    "* [ ] select files to post back to hydroshare (`files = [file1, file2, file3, ..., filen]`)\n",
    "* [ ] clean jupyter notebook (delete cells that are not needed)\n",
    "* [ ] clear output as desired (`cell --> All Output --> Clear`)\n",
    "* [ ] follow steps in welcome notebook section 4 to save desired `files` to hydroshare (currently need to `zip`, `move`, `unzip` to maintain directory structure)\n",
    "* [ ] add metadata through API (see welcome notebook)"
   ]
  },
  {
   "cell_type": "markdown",
   "metadata": {},
   "source": [
    "## Back to Hydroshare\n",
    "\n",
    "### document and share your own notebook and simulation results\n",
    "* [ ] open link that was provided as part of the upload\n",
    "* [ ] edit metadata as needed\n",
    "* [ ] enable access for colleagues"
   ]
  },
  {
   "cell_type": "markdown",
   "metadata": {},
   "source": [
    "### sharing\n",
    "* [ ] download notebook or simulation results from a colleague to cheyenne\n",
    "* [ ] run or examine the hydroshare from colleague"
   ]
  },
  {
   "cell_type": "markdown",
   "metadata": {},
   "source": [
    "# THE END"
   ]
  },
  {
   "cell_type": "code",
   "execution_count": null,
   "metadata": {},
   "outputs": [],
   "source": []
  }
 ],
 "metadata": {
  "kernelspec": {
   "display_name": "hydroshare",
   "language": "python",
   "name": "hydroshare"
  },
  "language_info": {
   "codemirror_mode": {
    "name": "ipython",
    "version": 3
   },
   "file_extension": ".py",
   "mimetype": "text/x-python",
   "name": "python",
   "nbconvert_exporter": "python",
   "pygments_lexer": "ipython3",
   "version": "3.6.4"
  }
 },
 "nbformat": 4,
 "nbformat_minor": 2
}
