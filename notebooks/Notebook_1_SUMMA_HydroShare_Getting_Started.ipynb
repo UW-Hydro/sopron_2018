{
 "cells": [
  {
   "cell_type": "markdown",
   "metadata": {},
   "source": [
    "# Notebook 1. SUMMA and HydroShare : Getting started"
   ]
  },
  {
   "cell_type": "markdown",
   "metadata": {},
   "source": [
    "## Workshop \n",
    "_Improving the theoretical underpinnings of hydrologic models_\n",
    "\n",
    "Sopron, Hungary, April 15-18, 2018\n",
    "\n",
    "### SUMMA / HydroShare tutorial\n",
    "Afternoon of Sunday, April 15, 2018"
   ]
  },
  {
   "cell_type": "markdown",
   "metadata": {},
   "source": [
    "## Tutorial workflow\n",
    "* Introduction to SUMMA: The Structure for Understanding Multiple Modeling Alternatives\n",
    "  + Model description\n",
    "  + Model input and output\n",
    "  + Specification of modeling alternatives or decisions\n",
    "\n",
    "\n",
    "* Introduction to HydroShare: Share your data and models with colleagues\n",
    "  + Why HydroShare\n",
    "  + Account setup\n",
    "  + Capabilities\n",
    "  \n",
    "\n",
    "* Hands-on SUMMA/HydroShare tutorial using python in a Jupyter notebooks on third-party computing resources\n",
    "  + NCAR account login\n",
    "  + Downloading and starting the Jupyter notebook\n",
    "  + Connecting to the Jupyter notebook from your local machine\n",
    "  + Step through the Jupyter notebook to configure, run, and analyze SUMMA simulations\n",
    "  + Upload and share results on HydroShare"
   ]
  },
  {
   "cell_type": "markdown",
   "metadata": {},
   "source": [
    "## Additional resources\n",
    "\n",
    "* SUMMA\n",
    " + Publications:\n",
    "   - Clark, M. P., B. Nijssen, J. Lundquist, D. Kavetski, D. Rupp, R. Woods, J. Freer, E. Gutmann, A. Wood, L. Brekke, J. Arnold, D. Gochis, R. Rasmussen, 2015: A unified approach for process-based hydrologic modeling: Part 1. Modeling concept. _Water Resources Research_, [doi:10.1002/2015WR017198](http://doi.org/10.1002/2015WR017198).\n",
    "   - Clark, M. P., B. Nijssen, J. Lundquist, D. Kavetski, D. Rupp, R. Woods, J. Freer, E. Gutmann, A. Wood, D. Gochis, R. Rasmussen, D. Tarboton, V. Mahat, G. Flerchinger, D. Marks, 2015: A unified approach for process-based hydrologic modeling: Part 2. Model implementation and case studies. Water Resources Research, [doi:10.1002/2015WR017200](http://doi.org/10.1002/2015WR017200).\n",
    " + [SUMMA source code](https://github.com/ncar/summa)\n",
    " + [SUMMA documentation](https://summa.readthedocs.io)\n",
    " + [SUMMA NCAR site](https://ral.ucar.edu/projects/summa): Includes location for download of test data sets\n",
    " + [pySumma](https://github.com/UW-Hydro/pysumma): Python tools for interacting with SUMMA -- in active development\n",
    " \n",
    " \n",
    "* HydroShare\n",
    "  + [HydroShare site](https://www.hydroshare.org/)\n",
    " \n",
    " \n",
    "* Python and jupyter notebooks\n",
    "  + [python](https://www.python.org/)\n",
    "  + [anaconda](https://anaconda.org/): A widely used python distribution\n",
    "  + [jupyter](https://jupyter.org)\n",
    "  \n",
    "  \n",
    "* NCAR computing resources:\n",
    "  + [cheyenne](https://www2.cisl.ucar.edu/resources/computational-systems/cheyenne)\n",
    "  + [geyser and caldera](https://www2.cisl.ucar.edu/resources/computational-systems/geyser-and-caldera)\n",
    " "
   ]
  },
  {
   "cell_type": "markdown",
   "metadata": {},
   "source": [
    "# SUMMA/HydroShare tutorial using python in a Jupyter notebooks on third-party computing resources"
   ]
  },
  {
   "cell_type": "markdown",
   "metadata": {},
   "source": [
    "## NCAR account login\n",
    "\n",
    "_This is provided for completeness and later reference. During the tutorial itself the user has not yet downloaded the notebook at this stage_\n",
    "\n",
    "### Login to Cheyenne ([more details](https://www2.cisl.ucar.edu/resources/computational-systems/cheyenne/quick-start-cheyenne))\n",
    "\n",
    "To log in to the NCAR's Cheyenne system, start your terminal or Secure Shell client and run an ssh command as shown here:\n",
    "\n",
    "```\n",
    "ssh -X -l username cheyenne.ucar.edu\n",
    "```\n",
    "\n",
    "You can use this shorter command if your Cheyenne username is the same as your username on your local computer:\n",
    "\n",
    "```\n",
    "ssh -X cheyenne.ucar.edu\n",
    "```\n",
    "\n",
    "After entering your username, you will be prompted to enter a token response. Type the 4-digit code that comes with your YubiKey and then press the circle on your YubiKey (do not hit _return_ after the 4-digit code).\n",
    "\n",
    "If your login is successful, then you will get a message that says: **_Welcome to Cheyenne_**"
   ]
  },
  {
   "cell_type": "markdown",
   "metadata": {},
   "source": [
    "### Starting an interactive session and activating the pysumma enviroment\n",
    "At this point you are on a login node on Cheyenne. This is not the place to do any computing, but merely a staging point for using NCAR's High Performance Computing Resources. If you do run computing jobs on the login node you will be unceremoniously booted from the machine and all your jobs will be killed. Instead, we will be using an interactive session that will start on its own computing node. Because we need access to the outside world to connect to HydroShare, we will be using NCAR's [Geyser](https://www2.cisl.ucar.edu/resources/computational-systems/geyser-and-caldera) facility (interactive nodes on Cheyenne do not have access to the outside world).\n",
    "\n",
    "On Cheyenne issue the following command\n",
    "```\n",
    "execgy\n",
    "```\n",
    "\n",
    "This will leave you at a shell prompt on geyser\n",
    "```\n",
    "bash-4.1$\n",
    "```\n",
    "\n",
    "To have as much control as possible over our python environment, we will be using a pre-configured python environment. You can activate this by issuing the following command on the command-line:\n",
    "\n",
    "```\n",
    "source ~nijssen/miniconda3/bin/activate ~nijssen/miniconda3/envs/pysumma\n",
    "```\n",
    "\n",
    "This will modify your shell prompt to show\n",
    "\n",
    "```\n",
    "(pysumma) bash-4.1$\n",
    "```\n",
    "\n",
    "at the start of the line. Most of what this does is set paths so that all the right programs and libraries are available to you. If you want details on how to configure this (for example on your own machines), please see the notebook **_XXX UPDATE_**.\n",
    "\n",
    "To make sure that everyone can get going quickly, we have also pre-installed a SUMMA executable (`summa-geyser.exe`) in the pysymma environment. If you want details on how to compile SUMMA on Geyser or Cheyenne, please see the notebook **_XXX UPDATE_** or the [SUMMA documentation](http://summa.readthedocs.io)."
   ]
  },
  {
   "cell_type": "markdown",
   "metadata": {},
   "source": [
    "### Download the jupyter notebook from the HydroShare server\n",
    "We will now download the notebooks that will be used to run the various exercises (this notebook and a few others) **_Alternatively we can pre-install this and simply copy it_**\n",
    "\n",
    "We have made this notebook a public resource on HydroShare, which means that you do not need to authenticate with HydroShare to download it. On geyser execute the following command\n",
    "\n",
    "```\n",
    "curl -O -L https://raw.githubusercontent.com/bartnijssen/sopron_2018/master/SUMMA_HydroShare_tutorial_setup.ipynb\n",
    "```"
   ]
  },
  {
   "cell_type": "markdown",
   "metadata": {},
   "source": [
    "### Start the jupyter notebook server and connect from local machine\n",
    "\n",
    "Now that the packages are loaded into your path, you can start the jupyter notebook on geyser\n",
    "```\n",
    "start-notebook\n",
    "```\n",
    "\n",
    "When you do so, it will start a notebook server on geyser to which you can connect from your local machine via a web browser. This is how we will interact with the computing resource on geyser. Simply follow the instructions on the screen. Please do **not** share the token that is displayed.\n",
    "\n",
    "```\n",
    "Run the following command on your desktop or laptop:\n",
    "\n",
    "    ssh ...\n",
    "\n",
    "Log in with your YubiKey/Cryptocard (there will be no prompt).\n",
    "Then open a browser and go to http://localhost:.... The Jupyter web\n",
    "interface will ask you for a token. Use the following:\n",
    "\n",
    "    <token>\n",
    "\n",
    "Note that anyone to whom you give the token can access (and modify/delete)\n",
    "files in your GLADE spaces, regardless of the file permissions you\n",
    "have set. SHARE TOKENS RARELY AND WISELY!\n",
    "```\n",
    "\n",
    "In your terminal or Secure Shell client on your local machine run the `ssh` command, which will ask for your yubikey information again. After you enter this, it looks like the terminal just 'hangs' (i.e. no response). This is as expected. Now open a browser window and navigate to the `localhost` URL that is shown in the geyser message. It will ask you for a token to authenticate. This will be the long string of characters shown on the geyser screen. Copy and paste this string. After you do so, you should see a web page with the jupyter logo and a file listing with a single notebook `SUMMA_HydroShare_tutorial_Sopron_2018.ipynb`.\n"
   ]
  },
  {
   "cell_type": "markdown",
   "metadata": {},
   "source": [
    "### Open the jupyter notebook and follow along\n",
    "Click on the `SUMMA_HydroShare_tutorial_Sopron_2018.ipynb`, which opens the notebook in your browser. Then navigate to this section. If you are not familiar with jupyter notebooks, please read the [jupyter documentation](https://jupyter.org). In short, the notebooks allow you to mix text and code and execute code interactively. You can use jupyter notebooks with a great number of scripting languages (the name itself is a contraction of Julia, Python, and R, but it works with many more shells). You can execute code in a cell by clicking on that cell and then hitting `<Shift-Enter>`."
   ]
  },
  {
   "cell_type": "markdown",
   "metadata": {},
   "source": [
    "## Install SUMMA\n",
    "\n",
    "The following commands will download SUMMA from its GitHub repository, configure the environment on geyser and compile the code. THe `!` in front of the command simply mean that these commands will be executed by the shell rather than in python. To run the cell, select it and hit `<Shift-Enter>`.\n"
   ]
  },
  {
   "cell_type": "code",
   "execution_count": 1,
   "metadata": {},
   "outputs": [
    {
     "name": "stdout",
     "output_type": "stream",
     "text": [
      "Cloning into 'summa'...\n",
      "remote: Counting objects: 9953, done.\u001b[K\n",
      "remote: Compressing objects: 100% (51/51), done.\u001b[K\n",
      "remote: Total 9953 (delta 34), reused 50 (delta 23), pack-reused 9879\u001b[K\n",
      "Receiving objects: 100% (9953/9953), 26.52 MiB | 20.14 MiB/s, done.\n",
      "Resolving deltas: 100% (6750/6750), done.\n"
     ]
    }
   ],
   "source": [
    "!git clone -b develop https://github.com/NCAR/summa.git  # clone SUMMA's git repository and checkout the develop branch - note that you can also just download the latest version of the code if you do not plane to do any development\n",
    "# !module load gnu # load compiler modules and libraries\n",
    "# !module load lapack # load compiler modules and libraries\n",
    "# !export F_MASTER=/glade/u/${USER}/summa # set the SUMMA master path (used by the SUMMA Makefile)\n",
    "# !export FC= # set the fortran compiler family to be used (used by the SUMMA Makefile)\n",
    "# !export FC_EXE= gfortran # set the fortran compiler executable (used by the SUMMA Makefile)\n",
    "# !export FC_ENV=gfortran-cheyenne # set the fortran compiler environment (used by the SUMMA Makefile)\n",
    "# !make -C summa/build/ -f Makefile # build SUMMA"
   ]
  },
  {
   "cell_type": "markdown",
   "metadata": {},
   "source": [
    "Once you run through these steps, you should have a `summa.exe` executable in `summa/bin`. You can test it by running "
   ]
  },
  {
   "cell_type": "code",
   "execution_count": null,
   "metadata": {},
   "outputs": [],
   "source": [
    "!summa/bin/summa.exe --version"
   ]
  },
  {
   "cell_type": "markdown",
   "metadata": {},
   "source": [
    "However, rather than interacting with the SUMMA executable directly, we will interact with SUMMA through `pySUMMA`, a python library for managing SUMMA simulations. Next we will install some required python libraries, followed by a download and install of the SUMMA test cases. Then we should be all ready to do some actual SUMMA installations."
   ]
  },
  {
   "cell_type": "markdown",
   "metadata": {},
   "source": [
    "## Install python libraries for pySUMMA and hydroshare access\n",
    "\n",
    "First `pip` install the pySUMMA libraries. For now we'll install this into your home directory."
   ]
  },
  {
   "cell_type": "code",
   "execution_count": 2,
   "metadata": {},
   "outputs": [
    {
     "name": "stdout",
     "output_type": "stream",
     "text": [
      "Collecting git+git://github.com/UW-Hydro/pysumma.git@develop\n",
      "  Cloning git://github.com/UW-Hydro/pysumma.git (to develop) to /tmp/pip-ntw_wtmm-build\n",
      "Installing collected packages: pysumma\n",
      "  Running setup.py install for pysumma ... \u001b[?25ldone\n",
      "\u001b[?25hSuccessfully installed pysumma-0.1\n",
      "\u001b[33mYou are using pip version 9.0.1, however version 9.0.3 is available.\n",
      "You should consider upgrading via the 'pip install --upgrade pip' command.\u001b[0m\n"
     ]
    }
   ],
   "source": [
    "!pip install --prefix=~/pythonlibs git+git://github.com/UW-Hydro/pysumma.git@develop"
   ]
  },
  {
   "cell_type": "markdown",
   "metadata": {},
   "source": [
    "Update your python path to ensure that these libraries can be found."
   ]
  },
  {
   "cell_type": "code",
   "execution_count": 3,
   "metadata": {},
   "outputs": [],
   "source": [
    "import sys, os\n",
    "from pathlib import Path\n",
    "\n",
    "home = str(Path.home())\n",
    "# add our libs directory to the path\n",
    "sys.path.append(os.path.join(home, 'pythonlibs'))\n",
    "sys.path.append(os.path.join(home, 'pythonlibs/lib/python3.6/site-packages'))\n",
    "sys.path.append(os.path.join(home, 'pythonlibs/bin'))"
   ]
  },
  {
   "cell_type": "markdown",
   "metadata": {},
   "source": [
    "Now install the HydroShare python libraries in the same place\n",
    "\n",
    "**_FOR NOW I'M DOWNLOADING THESE FROM A FILE ON DROPBOX_**"
   ]
  },
  {
   "cell_type": "code",
   "execution_count": 4,
   "metadata": {},
   "outputs": [
    {
     "name": "stdout",
     "output_type": "stream",
     "text": [
      "--2018-03-22 15:41:22--  https://www.dropbox.com/s/7i12om0vk16w7rn/hydroshare.tar.gz\n",
      "Resolving www.dropbox.com (www.dropbox.com)... 162.125.1.1, 2620:100:6016:1::a27d:101\n",
      "Connecting to www.dropbox.com (www.dropbox.com)|162.125.1.1|:443... connected.\n",
      "HTTP request sent, awaiting response... 302 Found\n",
      "Location: https://dl.dropboxusercontent.com/content_link/bN36tVW2zfcsBBXdypi2E200kddmkH8IUtx4XgMYFoFzV3ibTPe5V3hepe1QXduY/file [following]\n",
      "--2018-03-22 15:41:27--  https://dl.dropboxusercontent.com/content_link/bN36tVW2zfcsBBXdypi2E200kddmkH8IUtx4XgMYFoFzV3ibTPe5V3hepe1QXduY/file\n",
      "Resolving dl.dropboxusercontent.com (dl.dropboxusercontent.com)... 162.125.1.6, 2620:100:6016:6::a27d:106\n",
      "Connecting to dl.dropboxusercontent.com (dl.dropboxusercontent.com)|162.125.1.6|:443... connected.\n",
      "HTTP request sent, awaiting response... 200 OK\n",
      "Length: 1287875 (1.2M) [application/octet-stream]\n",
      "Saving to: ‘hydroshare.tar.gz’\n",
      "\n",
      "100%[======================================>] 1,287,875   4.12MB/s   in 0.3s   \n",
      "\n",
      "2018-03-22 15:41:29 (4.12 MB/s) - ‘hydroshare.tar.gz’ saved [1287875/1287875]\n",
      "\n"
     ]
    }
   ],
   "source": [
    "!wget https://www.dropbox.com/s/7i12om0vk16w7rn/hydroshare.tar.gz # temporary tar file with hydroshare content\n",
    "!tar -xzf hydroshare.tar.gz --directory ~/\n",
    "!rm hydroshare.tar.gz"
   ]
  },
  {
   "cell_type": "markdown",
   "metadata": {},
   "source": [
    "## Install SUMMA test cases from HydroShare\n",
    "Almost there. The last remaining step is to download the SUMMA test files and install them. We will download the test files as a HydroShare resource and install them locally."
   ]
  },
  {
   "cell_type": "code",
   "execution_count": 5,
   "metadata": {},
   "outputs": [],
   "source": [
    "from pysumma.Simulation import Simulation\n",
    "from hydroshare import hydroshare"
   ]
  },
  {
   "cell_type": "code",
   "execution_count": null,
   "metadata": {},
   "outputs": [],
   "source": [
    "hs = hydroshare.hydroshare()"
   ]
  },
  {
   "cell_type": "markdown",
   "metadata": {},
   "source": [
    "**_FOR NOW WE'LL GET THE FILES FROM NCAR AND JUST RUN THE INSTALL SCRIPTS_**"
   ]
  },
  {
   "cell_type": "code",
   "execution_count": 6,
   "metadata": {},
   "outputs": [
    {
     "name": "stdout",
     "output_type": "stream",
     "text": [
      "--2018-03-22 15:41:33--  https://ral.ucar.edu/sites/default/files/public/projects/structure-for-unifying-multiple-modeling-alternatives-summa/summatestcases-2.x.tar.gz\n",
      "Resolving ral.ucar.edu (ral.ucar.edu)... 128.117.192.211\n",
      "Connecting to ral.ucar.edu (ral.ucar.edu)|128.117.192.211|:443... connected.\n",
      "HTTP request sent, awaiting response... 200 OK\n",
      "Length: 22155486 (21M) [application/x-gzip]\n",
      "Saving to: ‘summatestcases-2.x.tar.gz’\n",
      "\n",
      "100%[======================================>] 22,155,486  10.1MB/s   in 2.1s   \n",
      "\n",
      "2018-03-22 15:41:36 (10.1 MB/s) - ‘summatestcases-2.x.tar.gz’ saved [22155486/22155486]\n",
      "\n"
     ]
    }
   ],
   "source": [
    "!wget https://ral.ucar.edu/sites/default/files/public/projects/structure-for-unifying-multiple-modeling-alternatives-summa/summatestcases-2.x.tar.gz\n",
    "#hs.getResourceFromHydroShare('6686dc8f26ac4bce8ff4c11e5953a74c')"
   ]
  },
  {
   "cell_type": "code",
   "execution_count": 7,
   "metadata": {},
   "outputs": [],
   "source": [
    "!tar -xzf summatestcases-2.x.tar.gz"
   ]
  },
  {
   "cell_type": "code",
   "execution_count": 8,
   "metadata": {},
   "outputs": [
    {
     "name": "stdout",
     "output_type": "stream",
     "text": [
      "/pool0/data/nijssen/hydroshare/sopron_2018/summaTestCases_2.x\n",
      "TestCases installed\n",
      "/pool0/data/nijssen/hydroshare/sopron_2018\n"
     ]
    }
   ],
   "source": [
    "%cd summaTestCases_2.x\n",
    "!./installTestCases_local.sh\n",
    "%cd .."
   ]
  },
  {
   "cell_type": "markdown",
   "metadata": {},
   "source": [
    "Phew -- setup completed"
   ]
  },
  {
   "cell_type": "code",
   "execution_count": null,
   "metadata": {},
   "outputs": [],
   "source": [
    "wget --no-check-certificate https://raw.githubusercontent.com/bartnijssen/sopron_2018/master/SUMMA_HydroShare_tutorial_setup.ipynb\n",
    "curl -O -L https://raw.githubusercontent.com/bartnijssen/sopron_2018/master/SUMMA_HydroShare_tutorial_setup.ipynb\n",
    "curl -L https://github.com/NCAR/summa/archive/v2.0.0.tar.gz | tar -xz \n",
    "module load git/2.10.0"
   ]
  },
  {
   "cell_type": "code",
   "execution_count": null,
   "metadata": {},
   "outputs": [],
   "source": [
    "## alternatively source activate an existing environment\n",
    "\n",
    "## installing miniconda on Cheyenne\n",
    "curl -O -L https://repo.continuum.io/miniconda/Miniconda3-latest-Linux-x86_64.sh\n",
    "/bin/bash ./Miniconda3-latest-Linux-x86_64.sh # accept license and say yes to modification of .basrhrc file\n",
    "source ~/.bashrc # make sure your paths are updated\n",
    "conda update -n base conda # update conda to the latest version\n",
    "conda env create -f /glade/u/home/jhamman/pysumma_env.yml # create a pysumma environment with the required packages\n"
   ]
  }
 ],
 "metadata": {
  "kernelspec": {
   "display_name": "hydroshare",
   "language": "python",
   "name": "hydroshare"
  },
  "language_info": {
   "codemirror_mode": {
    "name": "ipython",
    "version": 3
   },
   "file_extension": ".py",
   "mimetype": "text/x-python",
   "name": "python",
   "nbconvert_exporter": "python",
   "pygments_lexer": "ipython3",
   "version": "3.6.4"
  }
 },
 "nbformat": 4,
 "nbformat_minor": 2
}
