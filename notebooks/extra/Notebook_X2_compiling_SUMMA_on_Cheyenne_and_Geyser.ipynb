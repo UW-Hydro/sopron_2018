{
 "cells": [
  {
   "cell_type": "markdown",
   "metadata": {},
   "source": [
    "# Notebook X2. Compiling SUMMA on Cheyenne and Geyser"
   ]
  },
  {
   "cell_type": "code",
   "execution_count": null,
   "metadata": {},
   "outputs": [],
   "source": [
    "!module load git/2.10.0\n",
    "!git clone -b develop https://github.com/NCAR/summa.git  # clone SUMMA's git repository and checkout the develop branch - note that you can also just download the latest version of the code if you do not plane to do any development\n",
    "# !module load gnu # load compiler modules and libraries\n",
    "# !module load lapack # load compiler modules and libraries\n",
    "# !export F_MASTER=/glade/u/${USER}/summa # set the SUMMA master path (used by the SUMMA Makefile)\n",
    "# !export FC= # set the fortran compiler family to be used (used by the SUMMA Makefile)\n",
    "# !export FC_EXE= gfortran # set the fortran compiler executable (used by the SUMMA Makefile)\n",
    "# !export FC_ENV=gfortran-cheyenne # set the fortran compiler environment (used by the SUMMA Makefile)\n",
    "# !make -C summa/build/ -f Makefile # build SUMMA"
   ]
  }
 ],
 "metadata": {
  "kernelspec": {
   "display_name": "Python 3",
   "language": "python",
   "name": "python3"
  },
  "language_info": {
   "codemirror_mode": {
    "name": "ipython",
    "version": 3
   },
   "file_extension": ".py",
   "mimetype": "text/x-python",
   "name": "python",
   "nbconvert_exporter": "python",
   "pygments_lexer": "ipython3",
   "version": "3.6.4"
  }
 },
 "nbformat": 4,
 "nbformat_minor": 2
}
